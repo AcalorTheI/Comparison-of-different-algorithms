{
 "cells": [
  {
   "cell_type": "code",
   "execution_count": 1,
   "id": "f8e8fba0-bc85-4242-8ecd-71c5f6ba1711",
   "metadata": {},
   "outputs": [
    {
     "name": "stdout",
     "output_type": "stream",
     "text": [
      "[(1, 'XX'), (1, 'YY'), (1, 'ZZ')]\n"
     ]
    }
   ],
   "source": [
    "H = [(1, \"XX\"), (1, \"YY\"), (1, \"ZZ\")]\n",
    "print(H)"
   ]
  },
  {
   "cell_type": "code",
   "execution_count": 2,
   "id": "2255e52b-9dff-4eb8-80f0-c50072d67cfc",
   "metadata": {},
   "outputs": [
    {
     "name": "stdout",
     "output_type": "stream",
     "text": [
      "SparsePauliOp(['XX', 'YY', 'ZZ'],\n",
      "              coeffs=[1.+0.j, 1.+0.j, 1.+0.j])\n"
     ]
    }
   ],
   "source": [
    "from qiskit.quantum_info import SparsePauliOp\n",
    " \n",
    "H = SparsePauliOp([\"XX\", \"YY\", \"ZZ\"], coeffs=[1.0 + 0.0j, 1.0 + 0.0j, 1.0 + 0.0j])\n",
    "print(H)"
   ]
  },
  {
   "cell_type": "code",
   "execution_count": 3,
   "id": "f58eb350-673c-48b8-8f49-7ac9c9d1f14d",
   "metadata": {},
   "outputs": [
    {
     "ename": "ModuleNotFoundError",
     "evalue": "No module named 'pyscf'",
     "output_type": "error",
     "traceback": [
      "\u001b[1;31m---------------------------------------------------------------------------\u001b[0m",
      "\u001b[1;31mModuleNotFoundError\u001b[0m                       Traceback (most recent call last)",
      "Cell \u001b[1;32mIn[3], line 2\u001b[0m\n\u001b[0;32m      1\u001b[0m \u001b[38;5;28;01mimport\u001b[39;00m \u001b[38;5;21;01mnumpy\u001b[39;00m \u001b[38;5;28;01mas\u001b[39;00m \u001b[38;5;21;01mnp\u001b[39;00m\n\u001b[1;32m----> 2\u001b[0m \u001b[38;5;28;01mfrom\u001b[39;00m \u001b[38;5;21;01mpyscf\u001b[39;00m \u001b[38;5;28;01mimport\u001b[39;00m ao2mo, gto, mcscf, scf\n",
      "\u001b[1;31mModuleNotFoundError\u001b[0m: No module named 'pyscf'"
     ]
    }
   ],
   "source": [
    "import numpy as np\n",
    "from pyscf import ao2mo, gto, mcscf, scf"
   ]
  },
  {
   "cell_type": "code",
   "execution_count": 1,
   "id": "fc684790-5b81-4a8a-8ad4-44f3f34fe654",
   "metadata": {},
   "outputs": [
    {
     "name": "stdout",
     "output_type": "stream",
     "text": [
      "Collecting pyscf\n",
      "  Using cached pyscf-2.9.0.tar.gz (10.1 MB)\n",
      "  Installing build dependencies: started\n",
      "  Installing build dependencies: finished with status 'done'\n",
      "  Getting requirements to build wheel: started\n",
      "  Getting requirements to build wheel: finished with status 'done'\n",
      "  Preparing metadata (pyproject.toml): started\n",
      "  Preparing metadata (pyproject.toml): finished with status 'done'\n",
      "Requirement already satisfied: numpy!=1.16,!=1.17,>=1.13 in c:\\users\\aleksandar\\appdata\\local\\programs\\python\\python313\\lib\\site-packages (from pyscf) (2.1.2)\n",
      "Requirement already satisfied: scipy>=1.6.0 in c:\\users\\aleksandar\\appdata\\local\\programs\\python\\python313\\lib\\site-packages (from pyscf) (1.14.1)\n",
      "Requirement already satisfied: h5py>=2.7 in c:\\users\\aleksandar\\appdata\\local\\programs\\python\\python313\\lib\\site-packages (from pyscf) (3.14.0)\n",
      "Requirement already satisfied: setuptools in c:\\users\\aleksandar\\appdata\\local\\programs\\python\\python313\\lib\\site-packages (from pyscf) (80.9.0)\n",
      "Building wheels for collected packages: pyscf\n",
      "  Building wheel for pyscf (pyproject.toml): started\n",
      "  Building wheel for pyscf (pyproject.toml): finished with status 'error'\n",
      "Failed to build pyscf\n",
      "Note: you may need to restart the kernel to use updated packages.\n"
     ]
    },
    {
     "name": "stderr",
     "output_type": "stream",
     "text": [
      "  error: subprocess-exited-with-error\n",
      "  \n",
      "  Building wheel for pyscf (pyproject.toml) did not run successfully.\n",
      "  exit code: 1\n",
      "  \n",
      "  [76 lines of output]\n",
      "  C:\\Users\\Aleksandar\\AppData\\Local\\Temp\\pip-build-env-s_qkjy86\\overlay\\Lib\\site-packages\\setuptools\\config\\_apply_pyprojecttoml.py:82: SetuptoolsDeprecationWarning: `project.license` as a TOML table is deprecated\n",
      "  !!\n",
      "  \n",
      "          ********************************************************************************\n",
      "          Please use a simple string containing a SPDX expression for `project.license`. You can also use `project.license-files`. (Both options available on setuptools>=77.0.0).\n",
      "  \n",
      "          By 2026-Feb-18, you need to update your project and remove deprecated calls\n",
      "          or your builds will no longer be supported.\n",
      "  \n",
      "          See https://packaging.python.org/en/latest/guides/writing-pyproject-toml/#license for details.\n",
      "          ********************************************************************************\n",
      "  \n",
      "  !!\n",
      "    corresp(dist, value, root_dir)\n",
      "  C:\\Users\\Aleksandar\\AppData\\Local\\Temp\\pip-build-env-s_qkjy86\\overlay\\Lib\\site-packages\\setuptools\\config\\_apply_pyprojecttoml.py:61: SetuptoolsDeprecationWarning: License classifiers are deprecated.\n",
      "  !!\n",
      "  \n",
      "          ********************************************************************************\n",
      "          Please consider removing the following classifiers in favor of a SPDX license expression:\n",
      "  \n",
      "          License :: OSI Approved :: Apache Software License\n",
      "  \n",
      "          See https://packaging.python.org/en/latest/guides/writing-pyproject-toml/#license for details.\n",
      "          ********************************************************************************\n",
      "  \n",
      "  !!\n",
      "    dist._finalize_license_expression()\n",
      "  C:\\Users\\Aleksandar\\AppData\\Local\\Temp\\pip-build-env-s_qkjy86\\overlay\\Lib\\site-packages\\setuptools\\dist.py:759: SetuptoolsDeprecationWarning: License classifiers are deprecated.\n",
      "  !!\n",
      "  \n",
      "          ********************************************************************************\n",
      "          Please consider removing the following classifiers in favor of a SPDX license expression:\n",
      "  \n",
      "          License :: OSI Approved :: Apache Software License\n",
      "  \n",
      "          See https://packaging.python.org/en/latest/guides/writing-pyproject-toml/#license for details.\n",
      "          ********************************************************************************\n",
      "  \n",
      "  !!\n",
      "    self._finalize_license_expression()\n",
      "  running bdist_wheel\n",
      "  running build\n",
      "  running build_py\n",
      "  cmake -SC:\\Users\\Aleksandar\\AppData\\Local\\Temp\\pip-install-au579k6z\\pyscf_19c0c0421f8445498df87c7c465c55a6\\pyscf\\lib -Bbuild\\temp.win-amd64\n",
      "  -- Building for: Visual Studio 17 2022\n",
      "  -- Selecting Windows SDK version 10.0.26100.0 to target Windows 10.0.19045.\n",
      "  -- The C compiler identification is MSVC 19.44.35211.0\n",
      "  -- The CXX compiler identification is MSVC 19.44.35211.0\n",
      "  -- Detecting C compiler ABI info\n",
      "  -- Detecting C compiler ABI info - done\n",
      "  -- Check for working C compiler: C:/Program Files (x86)/Microsoft Visual Studio/2022/BuildTools/VC/Tools/MSVC/14.44.35207/bin/Hostx64/x64/cl.exe - skipped\n",
      "  -- Detecting C compile features\n",
      "  -- Detecting C compile features - done\n",
      "  -- Detecting CXX compiler ABI info\n",
      "  -- Detecting CXX compiler ABI info - done\n",
      "  -- Check for working CXX compiler: C:/Program Files (x86)/Microsoft Visual Studio/2022/BuildTools/VC/Tools/MSVC/14.44.35207/bin/Hostx64/x64/cl.exe - skipped\n",
      "  -- Detecting CXX compile features\n",
      "  -- Detecting CXX compile features - done\n",
      "  -- Looking for sgemm_\n",
      "  -- Looking for sgemm_ - not found\n",
      "  -- Performing Test CMAKE_HAVE_LIBC_PTHREAD\n",
      "  -- Performing Test CMAKE_HAVE_LIBC_PTHREAD - Failed\n",
      "  -- Looking for pthread_create in pthreads\n",
      "  -- Looking for pthread_create in pthreads - not found\n",
      "  -- Looking for pthread_create in pthread\n",
      "  -- Looking for pthread_create in pthread - not found\n",
      "  -- Found Threads: TRUE\n",
      "  -- Could NOT find BLAS (missing: BLAS_LIBRARIES)\n",
      "  -- Looking for ffsll\n",
      "  -- Looking for ffsll - not found\n",
      "  CMake Error at CMakeLists.txt:79 (message):\n",
      "    A required library with BLAS API not found.\n",
      "  \n",
      "  \n",
      "  -- Configuring incomplete, errors occurred!\n",
      "  error: command 'C:\\\\Users\\\\Aleksandar\\\\AppData\\\\Local\\\\Temp\\\\pip-build-env-s_qkjy86\\\\overlay\\\\Scripts\\\\cmake.EXE' failed with exit code 1\n",
      "  [end of output]\n",
      "  \n",
      "  note: This error originates from a subprocess, and is likely not a problem with pip.\n",
      "  ERROR: Failed building wheel for pyscf\n",
      "ERROR: Failed to build installable wheels for some pyproject.toml based projects (pyscf)\n"
     ]
    }
   ],
   "source": [
    "%pip install pyscf"
   ]
  },
  {
   "cell_type": "code",
   "execution_count": 2,
   "id": "79466aec-793d-49bc-9e75-952947e37738",
   "metadata": {},
   "outputs": [
    {
     "name": "stdout",
     "output_type": "stream",
     "text": [
      "Requirement already satisfied: pip in c:\\users\\aleksandar\\appdata\\local\\programs\\python\\python313\\lib\\site-packages (25.1.1)\n",
      "Requirement already satisfied: setuptools in c:\\users\\aleksandar\\appdata\\local\\programs\\python\\python313\\lib\\site-packages (70.2.0)\n",
      "Collecting setuptools\n",
      "  Using cached setuptools-80.9.0-py3-none-any.whl.metadata (6.6 kB)\n",
      "Collecting wheel\n",
      "  Using cached wheel-0.45.1-py3-none-any.whl.metadata (2.3 kB)\n",
      "Using cached setuptools-80.9.0-py3-none-any.whl (1.2 MB)\n",
      "Using cached wheel-0.45.1-py3-none-any.whl (72 kB)\n",
      "Installing collected packages: wheel, setuptools\n",
      "\n",
      "  Attempting uninstall: setuptools\n",
      "\n",
      "    Found existing installation: setuptools 70.2.0\n",
      "\n",
      "   -------------------- ------------------- 1/2 [setuptools]\n",
      "    Uninstalling setuptools-70.2.0:\n",
      "   -------------------- ------------------- 1/2 [setuptools]\n",
      "   -------------------- ------------------- 1/2 [setuptools]\n",
      "   -------------------- ------------------- 1/2 [setuptools]\n",
      "   -------------------- ------------------- 1/2 [setuptools]\n",
      "   -------------------- ------------------- 1/2 [setuptools]\n",
      "   -------------------- ------------------- 1/2 [setuptools]\n",
      "   -------------------- ------------------- 1/2 [setuptools]\n",
      "   -------------------- ------------------- 1/2 [setuptools]\n",
      "   -------------------- ------------------- 1/2 [setuptools]\n",
      "   -------------------- ------------------- 1/2 [setuptools]\n",
      "   -------------------- ------------------- 1/2 [setuptools]\n",
      "   -------------------- ------------------- 1/2 [setuptools]\n",
      "   -------------------- ------------------- 1/2 [setuptools]\n",
      "   -------------------- ------------------- 1/2 [setuptools]\n",
      "   -------------------- ------------------- 1/2 [setuptools]\n",
      "      Successfully uninstalled setuptools-70.2.0\n",
      "   -------------------- ------------------- 1/2 [setuptools]\n",
      "   -------------------- ------------------- 1/2 [setuptools]\n",
      "   -------------------- ------------------- 1/2 [setuptools]\n",
      "   -------------------- ------------------- 1/2 [setuptools]\n",
      "   -------------------- ------------------- 1/2 [setuptools]\n",
      "   -------------------- ------------------- 1/2 [setuptools]\n",
      "   -------------------- ------------------- 1/2 [setuptools]\n",
      "   -------------------- ------------------- 1/2 [setuptools]\n",
      "   -------------------- ------------------- 1/2 [setuptools]\n",
      "   ---------------------------------------- 2/2 [setuptools]\n",
      "\n",
      "Successfully installed setuptools-80.9.0 wheel-0.45.1\n",
      "Note: you may need to restart the kernel to use updated packages.\n"
     ]
    }
   ],
   "source": [
    "%pip install --upgrade pip setuptools wheel\n"
   ]
  },
  {
   "cell_type": "code",
   "execution_count": 2,
   "id": "8ed006e9-5683-484e-b9dd-66bd09f8c7ef",
   "metadata": {},
   "outputs": [
    {
     "ename": "ImportError",
     "evalue": "cannot import name 'BaseSampler' from 'qiskit.primitives' (C:\\Users\\Aleksandar\\AppData\\Local\\Programs\\Python\\Python313\\Lib\\site-packages\\qiskit\\primitives\\__init__.py)",
     "output_type": "error",
     "traceback": [
      "\u001b[1;31m---------------------------------------------------------------------------\u001b[0m",
      "\u001b[1;31mImportError\u001b[0m                               Traceback (most recent call last)",
      "Cell \u001b[1;32mIn[2], line 1\u001b[0m\n\u001b[1;32m----> 1\u001b[0m \u001b[38;5;28;01mfrom\u001b[39;00m \u001b[38;5;21;01mqiskit_nature\u001b[39;00m\u001b[38;5;21;01m.\u001b[39;00m\u001b[38;5;21;01msecond_q\u001b[39;00m\u001b[38;5;21;01m.\u001b[39;00m\u001b[38;5;21;01mdrivers\u001b[39;00m \u001b[38;5;28;01mimport\u001b[39;00m Psi4Driver, UnitsType, Molecule\n\u001b[0;32m      3\u001b[0m \u001b[38;5;66;03m# Define the molecule geometry\u001b[39;00m\n\u001b[0;32m      4\u001b[0m molecule \u001b[38;5;241m=\u001b[39m Molecule(\n\u001b[0;32m      5\u001b[0m     geometry\u001b[38;5;241m=\u001b[39m[[\u001b[38;5;124m\"\u001b[39m\u001b[38;5;124mH\u001b[39m\u001b[38;5;124m\"\u001b[39m, [\u001b[38;5;241m0.0\u001b[39m, \u001b[38;5;241m0.0\u001b[39m, \u001b[38;5;241m0.0\u001b[39m]],\n\u001b[0;32m      6\u001b[0m               [\u001b[38;5;124m\"\u001b[39m\u001b[38;5;124mH\u001b[39m\u001b[38;5;124m\"\u001b[39m, [\u001b[38;5;241m0.0\u001b[39m, \u001b[38;5;241m0.0\u001b[39m, \u001b[38;5;241m0.735\u001b[39m]]],  \u001b[38;5;66;03m# in Angstrom\u001b[39;00m\n\u001b[0;32m      7\u001b[0m     charge\u001b[38;5;241m=\u001b[39m\u001b[38;5;241m0\u001b[39m,\n\u001b[0;32m      8\u001b[0m     multiplicity\u001b[38;5;241m=\u001b[39m\u001b[38;5;241m1\u001b[39m,\n\u001b[0;32m      9\u001b[0m )\n",
      "File \u001b[1;32m~\\AppData\\Local\\Programs\\Python\\Python313\\Lib\\site-packages\\qiskit_nature\\__init__.py:53\u001b[0m\n\u001b[0;32m      1\u001b[0m \u001b[38;5;66;03m# This code is part of a Qiskit project.\u001b[39;00m\n\u001b[0;32m      2\u001b[0m \u001b[38;5;66;03m#\u001b[39;00m\n\u001b[0;32m      3\u001b[0m \u001b[38;5;66;03m# (C) Copyright IBM 2018, 2023.\u001b[39;00m\n\u001b[1;32m   (...)\u001b[0m\n\u001b[0;32m     10\u001b[0m \u001b[38;5;66;03m# copyright notice, and modified files need to carry a notice indicating\u001b[39;00m\n\u001b[0;32m     11\u001b[0m \u001b[38;5;66;03m# that they have been altered from the originals.\u001b[39;00m\n\u001b[0;32m     12\u001b[0m \u001b[38;5;124mr\u001b[39m\u001b[38;5;124;03m\"\"\"\u001b[39;00m\n\u001b[0;32m     13\u001b[0m \u001b[38;5;124;03m=============================================\u001b[39;00m\n\u001b[0;32m     14\u001b[0m \u001b[38;5;124;03mQiskit Nature module (:mod:`qiskit_nature`)\u001b[39;00m\n\u001b[1;32m   (...)\u001b[0m\n\u001b[0;32m     50\u001b[0m \n\u001b[0;32m     51\u001b[0m \u001b[38;5;124;03m\"\"\"\u001b[39;00m\n\u001b[1;32m---> 53\u001b[0m \u001b[38;5;28;01mfrom\u001b[39;00m \u001b[38;5;21;01mqiskit_algorithms\u001b[39;00m\u001b[38;5;21;01m.\u001b[39;00m\u001b[38;5;21;01mlist_or_dict\u001b[39;00m \u001b[38;5;28;01mimport\u001b[39;00m ListOrDict \u001b[38;5;28;01mas\u001b[39;00m ListOrDictType\n\u001b[0;32m     55\u001b[0m \u001b[38;5;28;01mfrom\u001b[39;00m \u001b[38;5;21;01m.\u001b[39;00m\u001b[38;5;21;01mexceptions\u001b[39;00m \u001b[38;5;28;01mimport\u001b[39;00m QiskitNatureError, UnsupportMethodError\n\u001b[0;32m     56\u001b[0m \u001b[38;5;28;01mfrom\u001b[39;00m \u001b[38;5;21;01m.\u001b[39;00m\u001b[38;5;21;01mlogging\u001b[39;00m \u001b[38;5;28;01mimport\u001b[39;00m logging\n",
      "File \u001b[1;32m~\\AppData\\Local\\Programs\\Python\\Python313\\Lib\\site-packages\\qiskit_algorithms\\__init__.py:254\u001b[0m\n\u001b[0;32m    252\u001b[0m \u001b[38;5;28;01mfrom\u001b[39;00m \u001b[38;5;21;01m.\u001b[39;00m\u001b[38;5;21;01malgorithm_job\u001b[39;00m \u001b[38;5;28;01mimport\u001b[39;00m AlgorithmJob\n\u001b[0;32m    253\u001b[0m \u001b[38;5;28;01mfrom\u001b[39;00m \u001b[38;5;21;01m.\u001b[39;00m\u001b[38;5;21;01malgorithm_result\u001b[39;00m \u001b[38;5;28;01mimport\u001b[39;00m AlgorithmResult\n\u001b[1;32m--> 254\u001b[0m \u001b[38;5;28;01mfrom\u001b[39;00m \u001b[38;5;21;01m.\u001b[39;00m\u001b[38;5;21;01mvariational_algorithm\u001b[39;00m \u001b[38;5;28;01mimport\u001b[39;00m VariationalAlgorithm, VariationalResult\n\u001b[0;32m    255\u001b[0m \u001b[38;5;28;01mfrom\u001b[39;00m \u001b[38;5;21;01m.\u001b[39;00m\u001b[38;5;21;01mamplitude_amplifiers\u001b[39;00m \u001b[38;5;28;01mimport\u001b[39;00m Grover, GroverResult, AmplificationProblem, AmplitudeAmplifier\n\u001b[0;32m    256\u001b[0m \u001b[38;5;28;01mfrom\u001b[39;00m \u001b[38;5;21;01m.\u001b[39;00m\u001b[38;5;21;01mamplitude_estimators\u001b[39;00m \u001b[38;5;28;01mimport\u001b[39;00m (\n\u001b[0;32m    257\u001b[0m     AmplitudeEstimator,\n\u001b[0;32m    258\u001b[0m     AmplitudeEstimatorResult,\n\u001b[1;32m   (...)\u001b[0m\n\u001b[0;32m    267\u001b[0m     EstimationProblem,\n\u001b[0;32m    268\u001b[0m )\n",
      "File \u001b[1;32m~\\AppData\\Local\\Programs\\Python\\Python313\\Lib\\site-packages\\qiskit_algorithms\\variational_algorithm.py:36\u001b[0m\n\u001b[0;32m     33\u001b[0m \u001b[38;5;28;01mfrom\u001b[39;00m \u001b[38;5;21;01mqiskit\u001b[39;00m\u001b[38;5;21;01m.\u001b[39;00m\u001b[38;5;21;01mcircuit\u001b[39;00m \u001b[38;5;28;01mimport\u001b[39;00m QuantumCircuit\n\u001b[0;32m     35\u001b[0m \u001b[38;5;28;01mfrom\u001b[39;00m \u001b[38;5;21;01m.\u001b[39;00m\u001b[38;5;21;01malgorithm_result\u001b[39;00m \u001b[38;5;28;01mimport\u001b[39;00m AlgorithmResult\n\u001b[1;32m---> 36\u001b[0m \u001b[38;5;28;01mfrom\u001b[39;00m \u001b[38;5;21;01m.\u001b[39;00m\u001b[38;5;21;01moptimizers\u001b[39;00m \u001b[38;5;28;01mimport\u001b[39;00m OptimizerResult\n\u001b[0;32m     39\u001b[0m \u001b[38;5;28;01mclass\u001b[39;00m \u001b[38;5;21;01mVariationalAlgorithm\u001b[39;00m(ABC):\n\u001b[0;32m     40\u001b[0m \u001b[38;5;250m    \u001b[39m\u001b[38;5;124;03m\"\"\"The Variational Algorithm Base Class.\"\"\"\u001b[39;00m\n",
      "File \u001b[1;32m~\\AppData\\Local\\Programs\\Python\\Python313\\Lib\\site-packages\\qiskit_algorithms\\optimizers\\__init__.py:139\u001b[0m\n\u001b[0;32m    137\u001b[0m \u001b[38;5;28;01mfrom\u001b[39;00m \u001b[38;5;21;01m.\u001b[39;00m\u001b[38;5;21;01mp_bfgs\u001b[39;00m \u001b[38;5;28;01mimport\u001b[39;00m P_BFGS\n\u001b[0;32m    138\u001b[0m \u001b[38;5;28;01mfrom\u001b[39;00m \u001b[38;5;21;01m.\u001b[39;00m\u001b[38;5;21;01mpowell\u001b[39;00m \u001b[38;5;28;01mimport\u001b[39;00m POWELL\n\u001b[1;32m--> 139\u001b[0m \u001b[38;5;28;01mfrom\u001b[39;00m \u001b[38;5;21;01m.\u001b[39;00m\u001b[38;5;21;01mqnspsa\u001b[39;00m \u001b[38;5;28;01mimport\u001b[39;00m QNSPSA\n\u001b[0;32m    140\u001b[0m \u001b[38;5;28;01mfrom\u001b[39;00m \u001b[38;5;21;01m.\u001b[39;00m\u001b[38;5;21;01mscipy_optimizer\u001b[39;00m \u001b[38;5;28;01mimport\u001b[39;00m SciPyOptimizer\n\u001b[0;32m    141\u001b[0m \u001b[38;5;28;01mfrom\u001b[39;00m \u001b[38;5;21;01m.\u001b[39;00m\u001b[38;5;21;01mslsqp\u001b[39;00m \u001b[38;5;28;01mimport\u001b[39;00m SLSQP\n",
      "File \u001b[1;32m~\\AppData\\Local\\Programs\\Python\\Python313\\Lib\\site-packages\\qiskit_algorithms\\optimizers\\qnspsa.py:23\u001b[0m\n\u001b[0;32m     20\u001b[0m \u001b[38;5;28;01mimport\u001b[39;00m \u001b[38;5;21;01mnumpy\u001b[39;00m \u001b[38;5;28;01mas\u001b[39;00m \u001b[38;5;21;01mnp\u001b[39;00m\n\u001b[0;32m     21\u001b[0m \u001b[38;5;28;01mfrom\u001b[39;00m \u001b[38;5;21;01mqiskit\u001b[39;00m\u001b[38;5;21;01m.\u001b[39;00m\u001b[38;5;21;01mcircuit\u001b[39;00m \u001b[38;5;28;01mimport\u001b[39;00m QuantumCircuit\n\u001b[1;32m---> 23\u001b[0m \u001b[38;5;28;01mfrom\u001b[39;00m \u001b[38;5;21;01mqiskit\u001b[39;00m\u001b[38;5;21;01m.\u001b[39;00m\u001b[38;5;21;01mprimitives\u001b[39;00m \u001b[38;5;28;01mimport\u001b[39;00m BaseSampler\n\u001b[0;32m     24\u001b[0m \u001b[38;5;28;01mfrom\u001b[39;00m \u001b[38;5;21;01mqiskit_algorithms\u001b[39;00m\u001b[38;5;21;01m.\u001b[39;00m\u001b[38;5;21;01mstate_fidelities\u001b[39;00m \u001b[38;5;28;01mimport\u001b[39;00m ComputeUncompute\n\u001b[0;32m     26\u001b[0m \u001b[38;5;28;01mfrom\u001b[39;00m \u001b[38;5;21;01m.\u001b[39;00m\u001b[38;5;21;01mspsa\u001b[39;00m \u001b[38;5;28;01mimport\u001b[39;00m SPSA, CALLBACK, TERMINATIONCHECKER, _batch_evaluate\n",
      "\u001b[1;31mImportError\u001b[0m: cannot import name 'BaseSampler' from 'qiskit.primitives' (C:\\Users\\Aleksandar\\AppData\\Local\\Programs\\Python\\Python313\\Lib\\site-packages\\qiskit\\primitives\\__init__.py)"
     ]
    }
   ],
   "source": [
    "from qiskit_nature.second_q.drivers import Psi4Driver, UnitsType, Molecule\n",
    "\n",
    "# Define the molecule geometry\n",
    "molecule = Molecule(\n",
    "    geometry=[[\"H\", [0.0, 0.0, 0.0]],\n",
    "              [\"H\", [0.0, 0.0, 0.735]]],  # in Angstrom\n",
    "    charge=0,\n",
    "    multiplicity=1,\n",
    ")\n",
    "\n",
    "# Set up the Psi4Driver\n",
    "driver = Psi4Driver(\n",
    "    molecule=molecule,\n",
    "    basis=\"sto-3g\",\n",
    "    method=\"scf\",  # Can also use 'hf' for Hartree-Fock\n",
    "    units=UnitsType.ANGSTROM,\n",
    ")\n",
    "\n",
    "# Run the electronic structure calculation\n",
    "problem = driver.run()\n",
    "\n",
    "# Extract electronic energy\n",
    "print(problem.hamiltonian)\n",
    "\n",
    "# (Optional) Next steps: Convert to qubit operator for VQE, etc.\n",
    "from qiskit_nature.second_q.mappers import JordanWignerMapper\n",
    "from qiskit_nature.second_q.problems import ElectronicStructureProblem\n",
    "\n",
    "# If using Qiskit 0.46+, get the qubit operator:\n",
    "es_problem = ElectronicStructureProblem(driver)\n",
    "second_q_ops = es_problem.second_q_ops()\n",
    "mapper = JordanWignerMapper()\n",
    "qubit_op = mapper.map(second_q_ops[0])\n",
    "print(qubit_op)"
   ]
  },
  {
   "cell_type": "code",
   "execution_count": null,
   "id": "c222ad73-df6a-4099-b99e-85dedef327b1",
   "metadata": {},
   "outputs": [],
   "source": []
  }
 ],
 "metadata": {
  "kernelspec": {
   "display_name": "Python 3 (ipykernel)",
   "language": "python",
   "name": "python3"
  },
  "language_info": {
   "codemirror_mode": {
    "name": "ipython",
    "version": 3
   },
   "file_extension": ".py",
   "mimetype": "text/x-python",
   "name": "python",
   "nbconvert_exporter": "python",
   "pygments_lexer": "ipython3",
   "version": "3.13.2"
  }
 },
 "nbformat": 4,
 "nbformat_minor": 5
}
